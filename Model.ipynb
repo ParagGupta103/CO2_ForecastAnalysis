{
 "cells": [
  {
   "cell_type": "code",
   "execution_count": null,
   "metadata": {},
   "outputs": [],
   "source": [
    "import torch\n",
    "import torch.nn as nn\n",
    "import torch.optim as optim\n",
    "from torch.utils.data import DataLoader, Dataset\n",
    "import pandas as pd\n",
    "import numpy as np\n",
    "import matplotlib.pyplot as plt\n"
   ]
  },
  {
   "cell_type": "code",
   "execution_count": null,
   "metadata": {},
   "outputs": [],
   "source": [
    "# Load the dataset\n",
    "data = pd.read_csv('/mnt/data/environment_data.csv')\n",
    "\n",
    "# Convert 'Time' column to datetime\n",
    "data['Time'] = pd.to_datetime(data['Time'])\n",
    "\n",
    "# Extract features and target variable\n",
    "# Let's assume we are predicting 'Temperature (degC)'\n",
    "features = data[['CO2 (PPM)', 'Humidity (%)', 'Longitude', 'Latitude', 'Barometric Pressure (mBar)']].values\n",
    "target = data['Temperature (degC)'].values\n",
    "\n",
    "# Convert data to PyTorch tensors\n",
    "features = torch.tensor(features, dtype=torch.float32)\n",
    "target = torch.tensor(target, dtype=torch.float32)\n",
    "\n",
    "# Reshape data for LSTM [samples, time steps, features]\n",
    "features = features.view(features.shape[0], 1, features.shape[1])\n",
    "target = target.view(target.shape[0], 1)\n"
   ]
  },
  {
   "cell_type": "code",
   "execution_count": null,
   "metadata": {},
   "outputs": [],
   "source": [
    "class TimeSeriesDataset(Dataset):\n",
    "    def __init__(self, features, target):\n",
    "        self.features = features\n",
    "        self.target = target\n",
    "\n",
    "    def __len__(self):\n",
    "        return len(self.features)\n",
    "\n",
    "    def __getitem__(self, index):\n",
    "        return self.features[index], self.target[index]\n",
    "\n",
    "# Create dataset and dataloader\n",
    "dataset = TimeSeriesDataset(features, target)\n",
    "dataloader = DataLoader(dataset, batch_size=32, shuffle=True)\n"
   ]
  },
  {
   "cell_type": "code",
   "execution_count": null,
   "metadata": {},
   "outputs": [],
   "source": [
    "class LSTMModel(nn.Module):\n",
    "    def __init__(self, input_size, hidden_size, num_layers, output_size):\n",
    "        super(LSTMModel, self).__init__()\n",
    "        self.hidden_size = hidden_size\n",
    "        self.num_layers = num_layers\n",
    "        self.lstm = nn.LSTM(input_size, hidden_size, num_layers, batch_first=True)\n",
    "        self.fc = nn.Linear(hidden_size, output_size)\n",
    "\n",
    "    def forward(self, x):\n",
    "        h0 = torch.zeros(self.num_layers, x.size(0), self.hidden_size).to(x.device)\n",
    "        c0 = torch.zeros(self.num_layers, x.size(0), self.hidden_size).to(x.device)\n",
    "        out, _ = self.lstm(x, (h0, c0))\n",
    "        out = self.fc(out[:, -1, :])\n",
    "        return out\n",
    "\n",
    "# Define model parameters\n",
    "input_size = features.shape[2]\n",
    "hidden_size = 50\n",
    "num_layers = 2\n",
    "output_size = 1\n",
    "\n",
    "# Initialize the model\n",
    "model = LSTMModel(input_size, hidden_size, num_layers, output_size)\n"
   ]
  },
  {
   "cell_type": "code",
   "execution_count": null,
   "metadata": {},
   "outputs": [],
   "source": [
    "criterion = nn.MSELoss()\n",
    "optimizer = optim.Adam(model.parameters(), lr=0.001)\n"
   ]
  },
  {
   "cell_type": "code",
   "execution_count": null,
   "metadata": {},
   "outputs": [],
   "source": [
    "num_epochs = 200\n",
    "\n",
    "# Training loop\n",
    "for epoch in range(num_epochs):\n",
    "    for features_batch, target_batch in dataloader:\n",
    "        # Move tensors to the configured device\n",
    "        features_batch = features_batch.to(model.fc.weight.device)\n",
    "        target_batch = target_batch.to(model.fc.weight.device)\n",
    "        \n",
    "        # Forward pass\n",
    "        outputs = model(features_batch)\n",
    "        loss = criterion(outputs, target_batch)\n",
    "        \n",
    "        # Backward and optimize\n",
    "        optimizer.zero_grad()\n",
    "        loss.backward()\n",
    "        optimizer.step()\n",
    "    \n",
    "    if (epoch+1) % 10 == 0:\n",
    "        print(f'Epoch [{epoch+1}/{num_epochs}], Loss: {loss.item():.4f}')\n",
    "\n",
    "print('Training complete')\n"
   ]
  },
  {
   "cell_type": "markdown",
   "metadata": {},
   "source": [
    "PREDICTION"
   ]
  },
  {
   "cell_type": "code",
   "execution_count": null,
   "metadata": {},
   "outputs": [],
   "source": [
    "# Switch the model to evaluation mode\n",
    "model.eval()\n",
    "\n",
    "# Predict on the training data\n",
    "with torch.no_grad():\n",
    "    predictions = model(features.to(model.fc.weight.device)).cpu().numpy()\n",
    "\n",
    "# Plot the predictions\n",
    "plt.plot(data['Time'], data['Temperature (degC)'].values, label='Actual')\n",
    "plt.plot(data['Time'], predictions, label='Predicted')\n",
    "plt.xlabel('Time')\n",
    "plt.ylabel('Temperature (degC)')\n",
    "plt.legend()\n",
    "plt.show()\n"
   ]
  }
 ],
 "metadata": {
  "language_info": {
   "name": "python"
  }
 },
 "nbformat": 4,
 "nbformat_minor": 2
}
